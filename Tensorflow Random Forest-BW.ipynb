{
 "cells": [
  {
   "cell_type": "code",
   "execution_count": 1,
   "metadata": {},
   "outputs": [],
   "source": [
    "import pandas as pd\n",
    "import numpy as np\n",
    "from sklearn import preprocessing\n",
    "from sklearn.preprocessing import OneHotEncoder\n",
    "from sklearn.model_selection import GridSearchCV\n",
    "from sklearn.metrics import roc_auc_score"
   ]
  },
  {
   "cell_type": "code",
   "execution_count": 2,
   "metadata": {
    "scrolled": true
   },
   "outputs": [],
   "source": [
    "df = pd.read_csv('data.csv')"
   ]
  },
  {
   "cell_type": "code",
   "execution_count": 3,
   "metadata": {},
   "outputs": [],
   "source": [
    "df = df.drop(['Unnamed: 0'], axis=1)"
   ]
  },
  {
   "cell_type": "code",
   "execution_count": 4,
   "metadata": {},
   "outputs": [],
   "source": [
    "df[\"Date\"] = pd.to_datetime(df[\"Date\"]).dt.strftime(\"%Y%m%d\")"
   ]
  },
  {
   "cell_type": "code",
   "execution_count": 10,
   "metadata": {},
   "outputs": [],
   "source": [
    "df['y/m'] = pd.to_datetime(df['y/m']).dt.strftime(\"%Y%m%d\")"
   ]
  },
  {
   "cell_type": "code",
   "execution_count": 12,
   "metadata": {},
   "outputs": [
    {
     "name": "stdout",
     "output_type": "stream",
     "text": [
      "(7345, 49) (7345,)\n"
     ]
    }
   ],
   "source": [
    "X = df.drop(['3_sigma_event'], axis=1).values\n",
    "Y = df['3_sigma_event'].values\n",
    "\n",
    "print(X.shape, Y.shape)"
   ]
  },
  {
   "cell_type": "code",
   "execution_count": 13,
   "metadata": {},
   "outputs": [],
   "source": [
    "nrows=7345\n",
    "n_train = int(nrows * 0.9)\n",
    "X_train = X[:n_train]\n",
    "Y_train = Y[:n_train]\n",
    "X_test = X[n_train:]\n",
    "Y_test = Y[n_train:]"
   ]
  },
  {
   "cell_type": "code",
   "execution_count": 14,
   "metadata": {},
   "outputs": [
    {
     "name": "stderr",
     "output_type": "stream",
     "text": [
      "C:\\Users\\Thier\\AppData\\Local\\Continuum\\anaconda3\\lib\\site-packages\\h5py\\__init__.py:36: FutureWarning: Conversion of the second argument of issubdtype from `float` to `np.floating` is deprecated. In future, it will be treated as `np.float64 == np.dtype(float).type`.\n",
      "  from ._conv import register_converters as _register_converters\n"
     ]
    }
   ],
   "source": [
    "import tensorflow as tf\n",
    "from tensorflow.contrib.tensor_forest.python import tensor_forest\n",
    "from tensorflow.python.ops import resources"
   ]
  },
  {
   "cell_type": "code",
   "execution_count": 15,
   "metadata": {},
   "outputs": [],
   "source": [
    "n_iter = 50\n",
    "n_classes = 2\n",
    "n_features = int(X_train.shape[1])\n",
    "n_trees = 10\n",
    "max_nodes = 30000"
   ]
  },
  {
   "cell_type": "code",
   "execution_count": 16,
   "metadata": {},
   "outputs": [],
   "source": [
    "x = tf.placeholder(tf.float32, shape=[None, n_features])\n",
    "y = tf.placeholder(tf.int64, shape=[None])"
   ]
  },
  {
   "cell_type": "code",
   "execution_count": 17,
   "metadata": {},
   "outputs": [],
   "source": [
    "hparams = tensor_forest.ForestHParams(num_classes=n_classes, num_features=n_features, num_trees=n_trees,\n",
    "                                      max_nodes=max_nodes, split_after_samples=50).fill()"
   ]
  },
  {
   "cell_type": "code",
   "execution_count": 18,
   "metadata": {},
   "outputs": [
    {
     "name": "stdout",
     "output_type": "stream",
     "text": [
      "INFO:tensorflow:Constructing forest with params = \n",
      "INFO:tensorflow:{'num_trees': 10, 'max_nodes': 30000, 'bagging_fraction': 1.0, 'feature_bagging_fraction': 1.0, 'num_splits_to_consider': 10, 'max_fertile_nodes': 0, 'split_after_samples': 50, 'valid_leaf_threshold': 1, 'dominate_method': 'bootstrap', 'dominate_fraction': 0.99, 'model_name': 'all_dense', 'split_finish_name': 'basic', 'split_pruning_name': 'none', 'collate_examples': False, 'checkpoint_stats': False, 'use_running_stats_method': False, 'initialize_average_splits': False, 'inference_tree_paths': False, 'param_file': None, 'split_name': 'less_or_equal', 'early_finish_check_every_samples': 0, 'prune_every_samples': 0, 'num_classes': 2, 'num_features': 49, 'bagged_num_features': 49, 'bagged_features': None, 'regression': False, 'num_outputs': 1, 'num_output_columns': 3, 'base_random_seed': 0, 'leaf_model_type': 0, 'stats_model_type': 0, 'finish_type': 0, 'pruning_type': 0, 'split_type': 0}\n"
     ]
    }
   ],
   "source": [
    "forest_graph = tensor_forest.RandomForestGraphs(hparams)"
   ]
  },
  {
   "cell_type": "code",
   "execution_count": 19,
   "metadata": {},
   "outputs": [],
   "source": [
    "train_op = forest_graph.training_graph(x, y)\n",
    "loss_op = forest_graph.training_loss(x, y)"
   ]
  },
  {
   "cell_type": "code",
   "execution_count": 20,
   "metadata": {},
   "outputs": [],
   "source": [
    "infer_op, _, _ = forest_graph.inference_graph(x)"
   ]
  },
  {
   "cell_type": "code",
   "execution_count": 21,
   "metadata": {},
   "outputs": [],
   "source": [
    "auc = tf.metrics.auc(tf.cast(y, tf.int64), infer_op[:, 1])[1]"
   ]
  },
  {
   "cell_type": "code",
   "execution_count": 22,
   "metadata": {},
   "outputs": [],
   "source": [
    "init_vars = tf.group(tf.global_variables_initializer(), tf.local_variables_initializer(), resources.initialize_resources(resources.shared_resources()))\n",
    "\n",
    "sess = tf.Session()\n",
    "\n",
    "sess.run(init_vars)"
   ]
  },
  {
   "cell_type": "code",
   "execution_count": 23,
   "metadata": {},
   "outputs": [],
   "source": [
    "batch_size = 1000"
   ]
  },
  {
   "cell_type": "code",
   "execution_count": 24,
   "metadata": {},
   "outputs": [],
   "source": [
    "indices = list(range(n_train))"
   ]
  },
  {
   "cell_type": "code",
   "execution_count": 25,
   "metadata": {},
   "outputs": [],
   "source": [
    "def gen_batch(indices):\n",
    "    np.random.shuffle(indices)\n",
    "    for batch_i in range(int(n_train / batch_size)):\n",
    "        batch_index = indices[batch_i*batch_size: (batch_i+1)*batch_size]\n",
    "        yield X_train[batch_index], Y_train[batch_index]"
   ]
  },
  {
   "cell_type": "code",
   "execution_count": 26,
   "metadata": {},
   "outputs": [
    {
     "name": "stdout",
     "output_type": "stream",
     "text": [
      "Iteration 1, AUC of ROC on training set: 0.968983\n",
      "AUC of ROC on testing set: 0.9608021\n",
      "Iteration 2, AUC of ROC on training set: 0.976716\n",
      "AUC of ROC on testing set: 0.9731716\n",
      "Iteration 3, AUC of ROC on training set: 0.980440\n",
      "AUC of ROC on testing set: 0.95857066\n",
      "Iteration 4, AUC of ROC on training set: 0.966436\n",
      "AUC of ROC on testing set: 0.94384336\n",
      "Iteration 5, AUC of ROC on training set: 0.950830\n",
      "AUC of ROC on testing set: 0.9397519\n",
      "Iteration 6, AUC of ROC on training set: 0.946034\n",
      "AUC of ROC on testing set: 0.9370217\n",
      "Iteration 7, AUC of ROC on training set: 0.943244\n",
      "AUC of ROC on testing set: 0.9356367\n",
      "Iteration 8, AUC of ROC on training set: 0.941025\n",
      "AUC of ROC on testing set: 0.9309618\n",
      "Iteration 9, AUC of ROC on training set: 0.936091\n",
      "AUC of ROC on testing set: 0.93084586\n",
      "Iteration 10, AUC of ROC on training set: 0.935603\n",
      "AUC of ROC on testing set: 0.93090254\n",
      "Iteration 11, AUC of ROC on training set: 0.935306\n",
      "AUC of ROC on testing set: 0.9310774\n",
      "Iteration 12, AUC of ROC on training set: 0.935149\n",
      "AUC of ROC on testing set: 0.93127567\n",
      "Iteration 13, AUC of ROC on training set: 0.934952\n",
      "AUC of ROC on testing set: 0.93137795\n",
      "Iteration 14, AUC of ROC on training set: 0.934846\n",
      "AUC of ROC on testing set: 0.9315295\n",
      "Iteration 15, AUC of ROC on training set: 0.934739\n",
      "AUC of ROC on testing set: 0.9316458\n",
      "Iteration 16, AUC of ROC on training set: 0.934661\n",
      "AUC of ROC on testing set: 0.9297934\n",
      "Iteration 17, AUC of ROC on training set: 0.932691\n",
      "AUC of ROC on testing set: 0.9281496\n",
      "Iteration 18, AUC of ROC on training set: 0.930953\n",
      "AUC of ROC on testing set: 0.9266963\n",
      "Iteration 19, AUC of ROC on training set: 0.929416\n",
      "AUC of ROC on testing set: 0.9254098\n",
      "Iteration 20, AUC of ROC on training set: 0.928055\n",
      "AUC of ROC on testing set: 0.9242722\n",
      "Iteration 21, AUC of ROC on training set: 0.926847\n",
      "AUC of ROC on testing set: 0.92326427\n",
      "Iteration 22, AUC of ROC on training set: 0.925759\n",
      "AUC of ROC on testing set: 0.9223573\n",
      "Iteration 23, AUC of ROC on training set: 0.924778\n",
      "AUC of ROC on testing set: 0.9215396\n",
      "Iteration 24, AUC of ROC on training set: 0.923877\n",
      "AUC of ROC on testing set: 0.9207873\n",
      "Iteration 25, AUC of ROC on training set: 0.923053\n",
      "AUC of ROC on testing set: 0.9188364\n",
      "Iteration 26, AUC of ROC on training set: 0.921070\n",
      "AUC of ROC on testing set: 0.9170414\n",
      "Iteration 27, AUC of ROC on training set: 0.919250\n",
      "AUC of ROC on testing set: 0.9153954\n",
      "Iteration 28, AUC of ROC on training set: 0.917570\n",
      "AUC of ROC on testing set: 0.9138739\n",
      "Iteration 29, AUC of ROC on training set: 0.916010\n",
      "AUC of ROC on testing set: 0.91246146\n",
      "Iteration 30, AUC of ROC on training set: 0.914555\n",
      "AUC of ROC on testing set: 0.9111421\n",
      "Iteration 31, AUC of ROC on training set: 0.913202\n",
      "AUC of ROC on testing set: 0.9099149\n",
      "Iteration 32, AUC of ROC on training set: 0.911934\n",
      "AUC of ROC on testing set: 0.90876424\n",
      "Iteration 33, AUC of ROC on training set: 0.910749\n",
      "AUC of ROC on testing set: 0.9076887\n",
      "Iteration 34, AUC of ROC on training set: 0.909641\n",
      "AUC of ROC on testing set: 0.906683\n",
      "Iteration 35, AUC of ROC on training set: 0.908604\n",
      "AUC of ROC on testing set: 0.90574175\n",
      "Iteration 36, AUC of ROC on training set: 0.907630\n",
      "AUC of ROC on testing set: 0.9048572\n",
      "Iteration 37, AUC of ROC on training set: 0.906711\n",
      "AUC of ROC on testing set: 0.9040228\n",
      "Iteration 38, AUC of ROC on training set: 0.905848\n",
      "AUC of ROC on testing set: 0.90324026\n",
      "Iteration 39, AUC of ROC on training set: 0.905037\n",
      "AUC of ROC on testing set: 0.90250367\n",
      "Iteration 40, AUC of ROC on training set: 0.904266\n",
      "AUC of ROC on testing set: 0.90180314\n",
      "Iteration 41, AUC of ROC on training set: 0.903533\n",
      "AUC of ROC on testing set: 0.90113825\n",
      "Iteration 42, AUC of ROC on training set: 0.902836\n",
      "AUC of ROC on testing set: 0.9005041\n",
      "Iteration 43, AUC of ROC on training set: 0.902178\n",
      "AUC of ROC on testing set: 0.89990646\n",
      "Iteration 44, AUC of ROC on training set: 0.901551\n",
      "AUC of ROC on testing set: 0.89933705\n",
      "Iteration 45, AUC of ROC on training set: 0.900952\n",
      "AUC of ROC on testing set: 0.8987923\n",
      "Iteration 46, AUC of ROC on training set: 0.900379\n",
      "AUC of ROC on testing set: 0.89827144\n",
      "Iteration 47, AUC of ROC on training set: 0.899831\n",
      "AUC of ROC on testing set: 0.8977733\n",
      "Iteration 48, AUC of ROC on training set: 0.899309\n",
      "AUC of ROC on testing set: 0.89729834\n",
      "Iteration 49, AUC of ROC on training set: 0.898809\n",
      "AUC of ROC on testing set: 0.8968434\n",
      "Iteration 50, AUC of ROC on training set: 0.898329\n",
      "AUC of ROC on testing set: 0.89640665\n"
     ]
    }
   ],
   "source": [
    "for i in range(1, n_iter + 1):\n",
    "    for X_batch, Y_batch in gen_batch(indices):\n",
    "        _, l = sess.run([train_op, loss_op], feed_dict={x: X_batch, y: Y_batch})\n",
    "    acc_train = sess.run(auc, feed_dict={x: X_train, y: Y_train})\n",
    "    print('Iteration %i, AUC of ROC on training set: %f' % (i, acc_train))\n",
    "    acc_test = sess.run(auc, feed_dict={x: X_test, y: Y_test})\n",
    "    print(\"AUC of ROC on testing set:\", acc_test)"
   ]
  },
  {
   "cell_type": "code",
   "execution_count": 25,
   "metadata": {},
   "outputs": [],
   "source": [
    "#With no feature engineering, we achieved a ROCAUC of almost 80"
   ]
  }
 ],
 "metadata": {
  "kernelspec": {
   "display_name": "Python 3",
   "language": "python",
   "name": "python3"
  },
  "language_info": {
   "codemirror_mode": {
    "name": "ipython",
    "version": 3
   },
   "file_extension": ".py",
   "mimetype": "text/x-python",
   "name": "python",
   "nbconvert_exporter": "python",
   "pygments_lexer": "ipython3",
   "version": "3.6.5"
  }
 },
 "nbformat": 4,
 "nbformat_minor": 2
}
