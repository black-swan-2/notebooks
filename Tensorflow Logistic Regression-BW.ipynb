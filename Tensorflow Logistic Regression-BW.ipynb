{
 "cells": [
  {
   "cell_type": "code",
   "execution_count": 1,
   "metadata": {},
   "outputs": [
    {
     "name": "stderr",
     "output_type": "stream",
     "text": [
      "C:\\Users\\Thier\\AppData\\Local\\Continuum\\anaconda3\\lib\\site-packages\\h5py\\__init__.py:36: FutureWarning: Conversion of the second argument of issubdtype from `float` to `np.floating` is deprecated. In future, it will be treated as `np.float64 == np.dtype(float).type`.\n",
      "  from ._conv import register_converters as _register_converters\n"
     ]
    }
   ],
   "source": [
    "import tensorflow as tf\n",
    "import pandas as pd\n",
    "import numpy as np\n",
    "from sklearn.metrics import roc_auc_score\n",
    "import pandas as pd\n",
    "from sklearn import preprocessing\n",
    "from sklearn.preprocessing import OneHotEncoder\n",
    "from sklearn.model_selection import GridSearchCV\n",
    "from sklearn.metrics import roc_auc_score"
   ]
  },
  {
   "cell_type": "code",
   "execution_count": 2,
   "metadata": {},
   "outputs": [],
   "source": [
    "df = pd.read_csv('data.csv')"
   ]
  },
  {
   "cell_type": "code",
   "execution_count": 3,
   "metadata": {},
   "outputs": [],
   "source": [
    "df = df.drop(['Unnamed: 0'], axis=1)"
   ]
  },
  {
   "cell_type": "code",
   "execution_count": 4,
   "metadata": {},
   "outputs": [],
   "source": [
    "df[\"Date\"] = pd.to_datetime(df[\"Date\"]).dt.strftime(\"%Y%m%d\")"
   ]
  },
  {
   "cell_type": "code",
   "execution_count": 5,
   "metadata": {},
   "outputs": [],
   "source": [
    "df['y/m'] = pd.to_datetime(df['y/m']).dt.strftime(\"%Y%m%d\")"
   ]
  },
  {
   "cell_type": "code",
   "execution_count": 6,
   "metadata": {},
   "outputs": [
    {
     "name": "stdout",
     "output_type": "stream",
     "text": [
      "(7345, 49) (7345,)\n"
     ]
    }
   ],
   "source": [
    "X = df.drop(['3_sigma_event'], axis=1).values\n",
    "Y = df['3_sigma_event'].values\n",
    "\n",
    "print(X.shape, Y.shape)"
   ]
  },
  {
   "cell_type": "code",
   "execution_count": 7,
   "metadata": {},
   "outputs": [],
   "source": [
    "nrows=7345\n",
    "n_train = int(nrows * 0.9)\n",
    "X_train = X[:n_train]\n",
    "Y_train = Y[:n_train]\n",
    "X_test = X[n_train:]\n",
    "Y_test = Y[n_train:]"
   ]
  },
  {
   "cell_type": "code",
   "execution_count": 8,
   "metadata": {},
   "outputs": [],
   "source": [
    "n_features = int(X_train.shape[1])\n",
    "learning_rate = 0.001\n",
    "n_iter = 50"
   ]
  },
  {
   "cell_type": "code",
   "execution_count": 9,
   "metadata": {},
   "outputs": [],
   "source": [
    "# Input and Target placeholders\n",
    "x = tf.placeholder(tf.float32, shape=[None, n_features])\n",
    "y = tf.placeholder(tf.float32, shape=[None])"
   ]
  },
  {
   "cell_type": "code",
   "execution_count": 10,
   "metadata": {},
   "outputs": [],
   "source": [
    "# Build the logistic regression model\n",
    "W = tf.Variable(tf.zeros([n_features, 1]))\n",
    "b = tf.Variable(tf.zeros([1]))"
   ]
  },
  {
   "cell_type": "code",
   "execution_count": 11,
   "metadata": {},
   "outputs": [],
   "source": [
    "logits = tf.add(tf.matmul(x, W), b)[:, 0]\n",
    "pred = tf.nn.sigmoid(logits)"
   ]
  },
  {
   "cell_type": "code",
   "execution_count": 12,
   "metadata": {},
   "outputs": [],
   "source": [
    "cost = tf.reduce_mean(tf.nn.sigmoid_cross_entropy_with_logits(labels=y, logits=logits))\n",
    "auc = tf.metrics.auc(tf.cast(y, tf.int64), pred)[1]"
   ]
  },
  {
   "cell_type": "code",
   "execution_count": 13,
   "metadata": {},
   "outputs": [],
   "source": [
    "optimizer = tf.train.AdamOptimizer(learning_rate).minimize(cost)"
   ]
  },
  {
   "cell_type": "code",
   "execution_count": 14,
   "metadata": {},
   "outputs": [],
   "source": [
    "# Initialize the variables\n",
    "init_vars = tf.group(tf.global_variables_initializer(), tf.local_variables_initializer())"
   ]
  },
  {
   "cell_type": "code",
   "execution_count": 15,
   "metadata": {},
   "outputs": [],
   "source": [
    "batch_size = 1000"
   ]
  },
  {
   "cell_type": "code",
   "execution_count": 16,
   "metadata": {},
   "outputs": [],
   "source": [
    "indices = list(range(n_train))"
   ]
  },
  {
   "cell_type": "code",
   "execution_count": 17,
   "metadata": {},
   "outputs": [],
   "source": [
    "def gen_batch(indices):\n",
    "    np.random.shuffle(indices)\n",
    "    for batch_i in range(int(n_train / batch_size)):\n",
    "        batch_index = indices[batch_i*batch_size: (batch_i+1)*batch_size]\n",
    "        yield X_train[batch_index], Y_train[batch_index]"
   ]
  },
  {
   "cell_type": "code",
   "execution_count": 18,
   "metadata": {},
   "outputs": [],
   "source": [
    "sess = tf.Session()\n",
    "\n",
    "sess.run(init_vars)"
   ]
  },
  {
   "cell_type": "code",
   "execution_count": 19,
   "metadata": {},
   "outputs": [
    {
     "name": "stdout",
     "output_type": "stream",
     "text": [
      "Iteration 1, training loss: 892549.246709\n",
      "Iteration 2, training loss: 1757647.458659\n",
      "Iteration 3, training loss: 2184871.138021\n",
      "Iteration 4, training loss: 2271129.110352\n",
      "Iteration 5, training loss: 2435634.638346\n",
      "Iteration 6, training loss: 2462992.256836\n",
      "Iteration 7, training loss: 1886568.710938\n",
      "Iteration 8, training loss: 1893503.339518\n",
      "Iteration 9, training loss: 2383397.956055\n",
      "Iteration 10, training loss: 2247837.106608\n",
      "Iteration 11, training loss: 2168316.942708\n",
      "Iteration 12, training loss: 2167923.968913\n",
      "Iteration 13, training loss: 1832996.913411\n",
      "Iteration 14, training loss: 2004902.873047\n",
      "Iteration 15, training loss: 1686979.290690\n",
      "Iteration 16, training loss: 1395866.365560\n",
      "Iteration 17, training loss: 1743437.205078\n",
      "Iteration 18, training loss: 816248.310059\n",
      "Iteration 19, training loss: 1574063.158854\n",
      "Iteration 20, training loss: 1133622.151855\n",
      "Iteration 21, training loss: 1356809.097412\n",
      "Iteration 22, training loss: 946734.137044\n",
      "Iteration 23, training loss: 1181189.739258\n",
      "Iteration 24, training loss: 1093166.937663\n",
      "Iteration 25, training loss: 715318.030436\n",
      "Iteration 26, training loss: 703103.948527\n",
      "Iteration 27, training loss: 792403.993490\n",
      "Iteration 28, training loss: 639264.968922\n",
      "Iteration 29, training loss: 522528.808762\n",
      "Iteration 30, training loss: 277723.210592\n",
      "Iteration 31, training loss: 185560.002757\n",
      "Iteration 32, training loss: 204231.199870\n",
      "Iteration 33, training loss: 162517.528320\n",
      "Iteration 34, training loss: 177966.850423\n",
      "Iteration 35, training loss: 241096.971354\n",
      "Iteration 36, training loss: 209084.501953\n",
      "Iteration 37, training loss: 186152.071615\n",
      "Iteration 38, training loss: 138613.815104\n",
      "Iteration 39, training loss: 91636.727865\n",
      "Iteration 40, training loss: 94970.548503\n",
      "Iteration 41, training loss: 68366.572591\n",
      "Iteration 42, training loss: 41175.252279\n",
      "Iteration 43, training loss: 28103.291667\n",
      "Iteration 44, training loss: 1654892.204417\n",
      "Iteration 45, training loss: 3063945.831706\n",
      "Iteration 46, training loss: 2565471.387370\n",
      "Iteration 47, training loss: 3971566.719401\n",
      "Iteration 48, training loss: 2277061.943359\n",
      "Iteration 49, training loss: 4419586.823568\n",
      "Iteration 50, training loss: 3749271.841146\n"
     ]
    }
   ],
   "source": [
    "for i in range(1, n_iter+1):\n",
    "    avg_cost = 0.\n",
    "    for X_batch, Y_batch in gen_batch(indices):\n",
    "        _, c = sess.run([optimizer, cost], feed_dict={x: X_batch, y: Y_batch})\n",
    "        avg_cost += c / int(n_train / batch_size)\n",
    "    print('Iteration %i, training loss: %f' % (i, avg_cost))"
   ]
  },
  {
   "cell_type": "code",
   "execution_count": 20,
   "metadata": {},
   "outputs": [
    {
     "name": "stdout",
     "output_type": "stream",
     "text": [
      "AUC of ROC on testing set: 0.5000001\n"
     ]
    }
   ],
   "source": [
    "auc_test = sess.run(auc, feed_dict={x: X_test, y: Y_test})\n",
    "print(\"AUC of ROC on testing set:\", auc_test)"
   ]
  },
  {
   "cell_type": "code",
   "execution_count": null,
   "metadata": {},
   "outputs": [],
   "source": []
  }
 ],
 "metadata": {
  "kernelspec": {
   "display_name": "Python 3",
   "language": "python",
   "name": "python3"
  },
  "language_info": {
   "codemirror_mode": {
    "name": "ipython",
    "version": 3
   },
   "file_extension": ".py",
   "mimetype": "text/x-python",
   "name": "python",
   "nbconvert_exporter": "python",
   "pygments_lexer": "ipython3",
   "version": "3.6.5"
  }
 },
 "nbformat": 4,
 "nbformat_minor": 2
}
